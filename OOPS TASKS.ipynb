{
 "cells": [
  {
   "cell_type": "code",
   "execution_count": 29,
   "id": "ac3a2b5f",
   "metadata": {},
   "outputs": [],
   "source": [
    "#Create your own class to perform a list search operation \n",
    "\n",
    "import logging as lg\n",
    "#lg.basicConfig(filename = \"lsearch.log\",level = lg.DEBUG, filemode = \"w\", format = \"%(asctime)s %(levelname)s %(message)s\")\n",
    "\n",
    "class ListSearch:\n",
    "    def __init__(self,k):\n",
    "        self.k = k\n",
    "    def search(self,num):\n",
    "        try:\n",
    "            lg.info(\"Search function start\")\n",
    "            for i in range(len(self.k)):\n",
    "                if (self.k[i] == num):\n",
    "                    lg.info(\"Successful search\")\n",
    "                return True\n",
    "            lg.info(\"Unsuccesful search\")\n",
    "            return False\n",
    "        except Exception as e:\n",
    "            lg.error(\"Error Occured\")\n",
    "            lg.exception(e)\n",
    "    "
   ]
  },
  {
   "cell_type": "code",
   "execution_count": 30,
   "id": "97e7b51f",
   "metadata": {},
   "outputs": [],
   "source": [
    "list_search = ListSearch([\"Kezia\",\"JiJi\",\"Harry\",\"Sky\",4,7,9,12,78])"
   ]
  },
  {
   "cell_type": "code",
   "execution_count": 31,
   "id": "6827355b",
   "metadata": {},
   "outputs": [
    {
     "data": {
      "text/plain": [
       "True"
      ]
     },
     "execution_count": 31,
     "metadata": {},
     "output_type": "execute_result"
    }
   ],
   "source": [
    "list_search.search(9)"
   ]
  },
  {
   "cell_type": "code",
   "execution_count": 15,
   "id": "d831786a",
   "metadata": {},
   "outputs": [
    {
     "data": {
      "text/plain": [
       "True"
      ]
     },
     "execution_count": 15,
     "metadata": {},
     "output_type": "execute_result"
    }
   ],
   "source": [
    "list_search.search(\"Sky\")"
   ]
  },
  {
   "cell_type": "code",
   "execution_count": 62,
   "id": "4cbae478",
   "metadata": {},
   "outputs": [],
   "source": [
    "#q2 : create a class for dict new element addition\n",
    "import logging as lg\n",
    "lg.basicConfig(filename = \"dictadd.log\",level = lg.DEBUG, filemode = \"w\", format = \"%(asctime)s %(levelname)s %(message)s\")\n",
    "\n",
    "class DictAdd:\n",
    "    def __init__(self,dic):\n",
    "        lg.info(\"Intializing Constructor\")\n",
    "        self.dic = dic\n",
    "    def Add_element(self,value):\n",
    "        try:\n",
    "            lg.info(\"Checking if value is dictonary\")\n",
    "            if type(value) == dict:\n",
    "                lg.info(\"Adding Value was successful\")\n",
    "                self.dic.update(value)\n",
    "            else:\n",
    "                lg.info(\"Value provided is not dictionary\")\n",
    "        except Exception as e:\n",
    "            lg.error(\"There is an issue with the code\")\n",
    "            lg.exception(e)\n",
    "            "
   ]
  },
  {
   "cell_type": "code",
   "execution_count": 88,
   "id": "f3fb7017",
   "metadata": {},
   "outputs": [],
   "source": [
    "d = DictAdd({\"name\":\"Joel\",\"Age\":22})"
   ]
  },
  {
   "cell_type": "code",
   "execution_count": 89,
   "id": "63a511c7",
   "metadata": {},
   "outputs": [],
   "source": [
    "d.Add_element({\"Height\":77})"
   ]
  },
  {
   "cell_type": "code",
   "execution_count": 67,
   "id": "7839ab10",
   "metadata": {},
   "outputs": [
    {
     "data": {
      "text/plain": [
       "{'name': 'Kezia', 'Age': 22, 'Height': 77}"
      ]
     },
     "execution_count": 67,
     "metadata": {},
     "output_type": "execute_result"
    }
   ],
   "source": [
    "d.dic"
   ]
  },
  {
   "cell_type": "code",
   "execution_count": 83,
   "id": "6a5c1183",
   "metadata": {},
   "outputs": [],
   "source": [
    "#create a class for tuple data extraction operation\n",
    "\n",
    "import logging as logg\n",
    "logg.basicConfig(filename = \"tuplext.log\",level = lg.DEBUG, filemode = \"w\", format = \"%(asctime)s %(levelname)s %(message)s\")\n",
    "\n",
    "class TupleExtract:\n",
    "    def __init__(self,t):\n",
    "        self.t = t\n",
    "    def extract_tup(self):\n",
    "        try:\n",
    "            logg.info(\"Setting the start and end indexes for extraction\")\n",
    "            start = int(input(\"Enter start position: \"))\n",
    "            end = int(input(\"Enter end position: \"))\n",
    "            logg.info(\"Extraction was a success\")\n",
    "            return self.t[start:end]\n",
    "        except Exception as e:\n",
    "            logg.error(\"There is a problem  with the code\")\n",
    "            logg.exception(e)\n",
    "    \n",
    "        "
   ]
  },
  {
   "cell_type": "code",
   "execution_count": 90,
   "id": "567ae135",
   "metadata": {},
   "outputs": [],
   "source": [
    "tup = TupleExtract((5,6,7,8,\"Ted\",\"Rita\",67))"
   ]
  },
  {
   "cell_type": "code",
   "execution_count": 93,
   "id": "73666671",
   "metadata": {},
   "outputs": [
    {
     "name": "stdout",
     "output_type": "stream",
     "text": [
      "Enter start position: 2\n",
      "Enter end position: 6\n"
     ]
    },
    {
     "data": {
      "text/plain": [
       "(7, 8, 'Ted', 'Rita')"
      ]
     },
     "execution_count": 93,
     "metadata": {},
     "output_type": "execute_result"
    }
   ],
   "source": [
    "tup.extract_tup()"
   ]
  },
  {
   "cell_type": "code",
   "execution_count": null,
   "id": "82c8f75e",
   "metadata": {},
   "outputs": [],
   "source": [
    "#Create a class to implement all insert , update , delete operation for mysql\n",
    "import logging as logg\n",
    "logg.basicConfig(filename = \"tuplext.log\",level = lg.DEBUG, filemode = \"w\", format = \"%(asctime)s %(levelname)s %(message)s\")\n"
   ]
  },
  {
   "cell_type": "code",
   "execution_count": 96,
   "id": "4f4c3952",
   "metadata": {},
   "outputs": [
    {
     "data": {
      "text/plain": [
       "'\\n Hello, This is text file created using pythong programming..\\n Practice makes Perfect.. Keep it up..'"
      ]
     },
     "execution_count": 96,
     "metadata": {},
     "output_type": "execute_result"
    }
   ],
   "source": [
    "#Create a class to perform append and delete operation in a file and inherit it in child class\n",
    "\n",
    "import logging\n",
    "\n",
    "logging.basicConfig(filename='file_calss.log', level=logging.DEBUG, filemode='w', format=\"\"\"%(asctime)s %(levelname)s %(message)\"\"\")\n",
    "\n",
    "class parent_file:\n",
    "    def __init__(self, filename):\n",
    "        self.filename = filename\n",
    "\n",
    "    def read(self):\n",
    "        logging.info(\"this is a start of a read operation\")\n",
    "        try:\n",
    "            logging.info(\"inside try block of read fn\")\n",
    "\n",
    "            with open(self.filename, \"r\") as fo:\n",
    "                str = fo.read()\n",
    "\n",
    "                logging.info(\"i m able to read the file\")\n",
    "                #print(f\"Read String is : {str}\")\n",
    "                # Close opend file\n",
    "                fo.close()\n",
    "                return str\n",
    "        except FileNotFoundError as e:\n",
    "            #print(e)\n",
    "            logging.error(\"there is some issue with read file operation\")\n",
    "            logging.error(e)\n",
    "\n",
    "    def write(self, txt):\n",
    "        logging.info(\"this is a start of a write operation\")\n",
    "        try:\n",
    "            with open(self.filename, \"a\") as fo:\n",
    "                fo.write(txt)\n",
    "                # Close opend file\n",
    "                fo.close()\n",
    "                logging.info(\"complete write operation\")\n",
    "                return\n",
    "        except Exception as e:\n",
    "            logging.error(\"there is some issue with write file operation\")\n",
    "            logging.error(e)\n",
    "            \n",
    "\n",
    "class child_file(parent_file):\n",
    "    def __init__(self, filename):\n",
    "        parent_file.__init__(self, filename)\n",
    "\n",
    "\n",
    "# obj = q6_filefn(\"abc.txt\")\n",
    "# #obj.write(\"Hello, This is text file created using python programming..\")\n",
    "# obj.write(\"Practice makes Perfect.. Keep it up..\")\n",
    "# obj.read()\n",
    "\n",
    "obj =child_file(\"abc1.txt\")\n",
    "obj.write(\"\\n Hello, This is text file created using python programming..\")\n",
    "obj.write(\"\\n Practice makes Perfect.. Keep it up..\")\n",
    "obj.read()\n"
   ]
  },
  {
   "cell_type": "code",
   "execution_count": null,
   "id": "bcecac00",
   "metadata": {},
   "outputs": [],
   "source": []
  }
 ],
 "metadata": {
  "kernelspec": {
   "display_name": "Python 3 (ipykernel)",
   "language": "python",
   "name": "python3"
  },
  "language_info": {
   "codemirror_mode": {
    "name": "ipython",
    "version": 3
   },
   "file_extension": ".py",
   "mimetype": "text/x-python",
   "name": "python",
   "nbconvert_exporter": "python",
   "pygments_lexer": "ipython3",
   "version": "3.9.13"
  }
 },
 "nbformat": 4,
 "nbformat_minor": 5
}
